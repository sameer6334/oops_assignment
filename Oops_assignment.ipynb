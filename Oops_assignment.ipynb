{
 "cells": [
  {
   "cell_type": "markdown",
   "id": "a613181a-2b7e-42bd-be9e-30de43cbd7b1",
   "metadata": {},
   "source": [
    "# THEORY QUESTIONS"
   ]
  },
  {
   "cell_type": "markdown",
   "id": "0b58eed5-576c-4aff-b34b-cbbca978c5da",
   "metadata": {},
   "source": [
    "### 1. What is Object-Oriented Programming (OOP)?"
   ]
  },
  {
   "cell_type": "code",
   "execution_count": 30,
   "id": "0013752e-bda1-4332-9431-e0ccc47fc8e4",
   "metadata": {},
   "outputs": [],
   "source": [
    "#OOPS  stand for object-oriented programming system. Object-oriented programming is a computer programming model that organizes software design around \n",
    "#objects, or data, instead of logic and functions. In OOP, objects are created from templates called classes, which define the behavior and properties \n",
    "#of the objects they create."
   ]
  },
  {
   "cell_type": "markdown",
   "id": "53eba3ee-137e-4549-9a8b-399cb00d1cd9",
   "metadata": {},
   "source": [
    "## 2. what is class in oops?"
   ]
  },
  {
   "cell_type": "code",
   "execution_count": 31,
   "id": "dbe566bc-8690-4e59-a981-449f79c08b7e",
   "metadata": {},
   "outputs": [],
   "source": [
    "#A user-defined data type that describes the nature of an object. A class includes a declaration and definition, which can be split into separate files.\n",
    "#A class can define the types of operations, or methods, that can be performed on an object."
   ]
  },
  {
   "cell_type": "markdown",
   "id": "04b4c4cb-ecdf-41da-8ecf-087b6b7d832e",
   "metadata": {},
   "source": [
    "## 3.what is an object in oops?"
   ]
  },
  {
   "cell_type": "code",
   "execution_count": 32,
   "id": "0c79321e-5520-407b-bba7-aa337ce4ba78",
   "metadata": {},
   "outputs": [],
   "source": [
    "# A single instance of a class, created with specifically defined data. Objects can represent real-world entities, such as a car or book, or abstract entities"
   ]
  },
  {
   "cell_type": "markdown",
   "id": "a982e141-2356-4b36-8f05-8cea45a7372c",
   "metadata": {},
   "source": [
    "## 4.what is a difference between abstraction and encapsulation?"
   ]
  },
  {
   "cell_type": "code",
   "execution_count": 33,
   "id": "462ac346-f7f5-4e6f-9c68-45b53bc77441",
   "metadata": {},
   "outputs": [],
   "source": [
    "#Abstraction is a fundamental concept in Python programming that allows us to simplify complex concepts and focus on the essential details. It involves \n",
    "#hiding unnecessary details and exposing only the relevant information to the users.\n",
    "#ENCAPSULATION:encapsulation is one of the fundamental concept of object oriented programming system which means bundling of data and method of a classs."
   ]
  },
  {
   "cell_type": "markdown",
   "id": "5add440d-752a-401a-8f25-6bab8fa017f2",
   "metadata": {},
   "source": [
    "## 5.what are dunder methods in python?"
   ]
  },
  {
   "cell_type": "code",
   "execution_count": 34,
   "id": "9da5cbe4-d6fa-4ef7-8922-1b4b04b4421e",
   "metadata": {},
   "outputs": [],
   "source": [
    "#Dunder methods, also known as magic methods or special methods, are predefined methods in Python that have double underscores  at the beginning and \n",
    "#end of their names. These methods provide a way to define specific behaviors for built-in operations or functionalities in Python classes."
   ]
  },
  {
   "cell_type": "markdown",
   "id": "580a1830-29ad-4518-b462-08868db6ac79",
   "metadata": {},
   "source": [
    "## 6.explain the concept of inheritance in python."
   ]
  },
  {
   "cell_type": "code",
   "execution_count": 35,
   "id": "cb01a428-3346-41f5-a322-19e454a30d79",
   "metadata": {},
   "outputs": [],
   "source": [
    "#Inheritance in Python is a feature that allows a class to inherit the properties and methods of another class. This allows to reuse code and write \n",
    "#it once instead of copying it for each class that needs it."
   ]
  },
  {
   "cell_type": "markdown",
   "id": "e4265c4c-d3e0-44d0-8647-04c6871d38ac",
   "metadata": {},
   "source": [
    "## 7.what is polymorphism in python?"
   ]
  },
  {
   "cell_type": "code",
   "execution_count": 36,
   "id": "505353bd-653e-4dcd-aaad-060b00e93794",
   "metadata": {},
   "outputs": [],
   "source": [
    "#Polymorphism is a fundamental concept in object-oriented programming in Python that allows a single type of entity to represent many types in different\n",
    "#contexts.poly means many nad phormism means forms."
   ]
  },
  {
   "cell_type": "markdown",
   "id": "e1f39506-4a26-4bf7-9bad-c3011c44d3fd",
   "metadata": {},
   "source": [
    "## 8.how is encapsulation achieved in python?"
   ]
  },
  {
   "cell_type": "code",
   "execution_count": 37,
   "id": "a08b1126-b146-4835-908c-6a90ef9a6a37",
   "metadata": {},
   "outputs": [],
   "source": [
    "# in Python, encapsulation is achieved by using access modifiers to restrict access to a class's variables and methods:\n",
    "#Public\n",
    "#By default, all attributes and methods in a Python class are public and can be accessed from outside the class.\n",
    "#Private\n",
    "#To define a private variable, add two underscores as a prefix at the start of a variable name. Private members are only accessible within the class.\n",
    "#Protected\n",
    "#To indicate that an attribute is meant for internal use only within the class and its subclass, use a single underscore as a prefix."
   ]
  },
  {
   "cell_type": "markdown",
   "id": "f63ce151-ee44-455f-bd10-1d3f969b7c8d",
   "metadata": {},
   "source": [
    "## 9.what is a constructor in python?"
   ]
  },
  {
   "cell_type": "code",
   "execution_count": 38,
   "id": "aeb8a05d-6168-4b05-a321-6d013a50ce64",
   "metadata": {},
   "outputs": [],
   "source": [
    "#A constructor in Python is a special method that initializes an object by assigning values to its data members when it's created."
   ]
  },
  {
   "cell_type": "markdown",
   "id": "75a70987-cd84-4f9f-9019-5f517f6c59e8",
   "metadata": {},
   "source": [
    "## 10.what are class and static methods in python?"
   ]
  },
  {
   "cell_type": "code",
   "execution_count": 39,
   "id": "4036ff8b-0e3e-4a8f-8b3d-a746cf72fb95",
   "metadata": {},
   "outputs": [],
   "source": [
    "#A class method takes cls as the first parameter while a static method needs no specific parameters. A class method can access or modify the class state\n",
    "#while a static method can't access or modify it. In general, static methods know nothing about the class state."
   ]
  },
  {
   "cell_type": "markdown",
   "id": "c2686e88-7c56-4c66-a34e-ee48c6d55887",
   "metadata": {},
   "source": [
    "## 11.what is method overloading in python?"
   ]
  },
  {
   "cell_type": "code",
   "execution_count": 40,
   "id": "054f1e0f-67a7-43b1-b1f2-6d5fd50cf778",
   "metadata": {},
   "outputs": [],
   "source": [
    "# Two or more methods have the same name but different numbers of parameters or different types of parameters, or both. These methods are called \n",
    "#overloaded methods and this is called method overloading."
   ]
  },
  {
   "cell_type": "markdown",
   "id": "a5cfa52b-79ce-4ce3-801c-443cf432ead3",
   "metadata": {},
   "source": [
    "## 12.what is method overriding in oops?"
   ]
  },
  {
   "cell_type": "code",
   "execution_count": 41,
   "id": "5d935bed-02ce-4f59-84a0-c8bcd600eebd",
   "metadata": {},
   "outputs": [],
   "source": [
    "#Method overriding in Python occurs when a child class defines a method that has the same name and parameters as a method in its parent class. \n",
    "#The child class method overrides or replaces the parent class method when called on an instance of the child class."
   ]
  },
  {
   "cell_type": "markdown",
   "id": "a9f978b5-ffad-44e4-a196-3111030459d9",
   "metadata": {},
   "source": [
    "## 13.what is property decorator in python?"
   ]
  },
  {
   "cell_type": "code",
   "execution_count": 42,
   "id": "456f38d6-218b-4497-ba6e-c7e8f1c89751",
   "metadata": {},
   "outputs": [],
   "source": [
    "# The decorator is a built-in Python decorator that allows you to turn class methods into properties in a way that's both elegant and user-friendly"
   ]
  },
  {
   "cell_type": "markdown",
   "id": "1043675d-225d-4113-8f65-2390e2ec737a",
   "metadata": {},
   "source": [
    "## 14. why is polymorphism important in oops?"
   ]
  },
  {
   "cell_type": "code",
   "execution_count": 43,
   "id": "01d08192-29c6-496c-a973-1f973e646f50",
   "metadata": {},
   "outputs": [],
   "source": [
    "#Polymorphism allows for flexible code design and code reuse. It also enables developers to write clean, readable, and resilient code."
   ]
  },
  {
   "cell_type": "markdown",
   "id": "cb9cb0d8-016f-4958-8a3f-8ef48bb7ba8a",
   "metadata": {},
   "source": [
    "## 15.what is an abstract class in python?"
   ]
  },
  {
   "cell_type": "code",
   "execution_count": 44,
   "id": "510c48e0-8f63-4508-a62e-fb1637ff6a22",
   "metadata": {},
   "outputs": [],
   "source": [
    "#an abstract class is a class that cannot be instantiated on its own and is designed to be a blueprint for other classes:\n",
    "# Abstract classes provide a common interface for subclasses while allowing them to provide specific implementations."
   ]
  },
  {
   "cell_type": "markdown",
   "id": "447d36c3-a37c-4402-92c4-7cd6e6dba633",
   "metadata": {},
   "source": [
    "## 16.what are advantage of oops?"
   ]
  },
  {
   "cell_type": "code",
   "execution_count": 45,
   "id": "b61926c4-7756-4711-8304-7f3d3f52cce3",
   "metadata": {},
   "outputs": [],
   "source": [
    "# - Encapsulation :Encapsulation combines data and code together, which allows developers to modify the internal details of an object without affecting the external code.\n",
    "\n",
    "# Inheritance:Inheritance allows children classes to inherit properties and behaviors from the parent class, which promotes code reusability and reduces duplicate code.\n",
    "\n",
    "# - Code reusability:Objects and their behaviors can be reused in different parts of an application or even across multiple projects.\n",
    "\n",
    "# - Abstraction:abstraction provides only essential information about the data to the outside world, hiding the background details or implementation.\n",
    "\n",
    "# - Modularity:Modularity is achieved through encapsulation, which enhances code organization and makes it easier to debug and maintain.\n",
    "\n",
    "# - Code maintenance:OOP makes it easy for developers to incorporate new changes into the code.\n",
    "# Scalability:OOP promotes scalability by making it easy to add new features or functionalities without changing existing code"
   ]
  },
  {
   "cell_type": "markdown",
   "id": "904cfd77-0337-486e-8e46-6a3f44265b60",
   "metadata": {},
   "source": [
    "## 17.What is the difference between a class variable and an instance variable?"
   ]
  },
  {
   "cell_type": "code",
   "execution_count": 46,
   "id": "85c3603b-87d5-437e-acf0-c318eea321d2",
   "metadata": {},
   "outputs": [],
   "source": [
    "#Class variables:Class variables are useful for sharing data between all instances of a class, such as keeping track of the number of instances created \n",
    "# or storing a constant value.\n",
    "#Instance variables:Each instantiated object of a class has its own copy of an instance variable. Instance variables are useful for storing data that is \n",
    "# specific to each instance, such as a person's name or age."
   ]
  },
  {
   "cell_type": "markdown",
   "id": "56f6dbbb-cf0b-41d4-b252-a1c9efe06c7f",
   "metadata": {},
   "source": [
    "## 18.what is multiple inheritance in python."
   ]
  },
  {
   "cell_type": "code",
   "execution_count": 47,
   "id": "0c02217a-5d11-4b8d-b4bf-b5e7ad45dd79",
   "metadata": {},
   "outputs": [],
   "source": [
    "# If a child class is inheriting the properties of a single other class, we call it single inheritance. However, if a child class inherits from more \n",
    "# than one class, i.e. this child class is derived from multiple classes, we call it multiple inheritance in Python."
   ]
  },
  {
   "cell_type": "markdown",
   "id": "1ecd7fba-5ceb-4768-9c74-a849e3e6e749",
   "metadata": {},
   "source": [
    "## 19. Explain the purpose of ‘’__str__’ and ‘__repr__’ ‘ methods in Python?"
   ]
  },
  {
   "cell_type": "code",
   "execution_count": 48,
   "id": "faf68fbb-fb3d-4855-b433-6b551a69c802",
   "metadata": {},
   "outputs": [],
   "source": [
    "#str:Returns a human-readable string representation of an object. It's called by the print(), str(), and format() functions. The goal of __str__ is to make the output readable and user-friendly.\n",
    "#repr:Returns an unambiguous string representation of an object. It's called by the repr() function. The goal of __repr__ is to make the output clear and informative, often including enough information to recreate the object."
   ]
  },
  {
   "cell_type": "markdown",
   "id": "c6d96057-e064-4554-9369-f41e4732af93",
   "metadata": {},
   "source": [
    "## 20.What is the significance of the ‘super()’ function in Python? "
   ]
  },
  {
   "cell_type": "code",
   "execution_count": 49,
   "id": "9b50c1b2-9f26-4de0-a981-68de017d9785",
   "metadata": {},
   "outputs": [],
   "source": [
    "# The super() function in Python is a built-in function that allows you to access methods and properties of a parent class from a child class. \n",
    "# This is useful when working with inheritance in object-oriented programming."
   ]
  },
  {
   "cell_type": "markdown",
   "id": "0840c022-34af-4082-b416-c3d224785dc8",
   "metadata": {},
   "source": [
    "## 21. What is the significance of the __del__ method in Python?"
   ]
  },
  {
   "cell_type": "code",
   "execution_count": 50,
   "id": "d9e2cf89-4d63-4723-824d-c6dfd8633c29",
   "metadata": {},
   "outputs": [],
   "source": [
    "#The del method in Python is a destructor method that's called when an object is about to be destroyed. It's used to:\n",
    "#Perform cleanup actions, such as closing files or releasing locks."
   ]
  },
  {
   "cell_type": "markdown",
   "id": "98a7f5bd-d3de-496c-a2ed-e37814dd4434",
   "metadata": {},
   "source": [
    "## 22.What is the difference between @staticmethod and @classmethod in Python?"
   ]
  },
  {
   "cell_type": "code",
   "execution_count": 51,
   "id": "f1da6194-eea6-498d-8fa5-aa711ed228e1",
   "metadata": {},
   "outputs": [],
   "source": [
    "# While a static method requires no specific parameters, a class method takes cls as its first argument. While a static method cannot access or modify \n",
    "# the class state, a class method can. Static methods are typically unaware of the class state."
   ]
  },
  {
   "cell_type": "markdown",
   "id": "e16e5b4f-8d56-4ef1-9528-cc39b2b13ec4",
   "metadata": {},
   "source": [
    "## 23. How does polymorphism work in Python with inheritance?"
   ]
  },
  {
   "cell_type": "code",
   "execution_count": 52,
   "id": "a2cc8ec7-ab8f-43f1-b3e6-14190ab854af",
   "metadata": {},
   "outputs": [],
   "source": [
    "#Polymorphism, a child class method is allowed to have the same name as the class methods in the parent class. In inheritance, the methods belonging \n",
    "#to the parent class are passed down to the child class. It's also possible to change a method that a child class has inherited from its parent"
   ]
  },
  {
   "cell_type": "markdown",
   "id": "da15e88b-efbf-4cb5-af2f-898da9b26e41",
   "metadata": {},
   "source": [
    "## 24.What is method chaining in Python OOP?"
   ]
  },
  {
   "cell_type": "code",
   "execution_count": 53,
   "id": "d66a8bba-d784-4380-9fd4-c4001dcfd8d0",
   "metadata": {},
   "outputs": [],
   "source": [
    "#Method chaining is a powerful technique in Python that enables us to perform a sequence of operations on an object in a concise and readable manner."
   ]
  },
  {
   "cell_type": "markdown",
   "id": "b6b6b155-d9e1-4608-9007-fa76f8c72571",
   "metadata": {},
   "source": [
    "## 25.What is the purpose of the __call__ method in Python?"
   ]
  },
  {
   "cell_type": "code",
   "execution_count": 54,
   "id": "34e60bae-ecd3-4bc1-a99c-e38a9163b316",
   "metadata": {},
   "outputs": [],
   "source": [
    "#The call method makes instances of a class callable, allowing them to be treated and executed like functions. This enhances the versatility of \n",
    "# Python's object-oriented programming paradigm"
   ]
  },
  {
   "cell_type": "code",
   "execution_count": null,
   "id": "6fc436f5-9acb-4220-8af8-3ec7570da5bf",
   "metadata": {},
   "outputs": [],
   "source": []
  },
  {
   "cell_type": "markdown",
   "id": "9376572a-5f1e-4fc3-a4b8-814625ae3568",
   "metadata": {},
   "source": [
    "# PRACTICAL QUESTIONS"
   ]
  },
  {
   "cell_type": "code",
   "execution_count": 55,
   "id": "74bb46ee-f888-4708-ae32-0ccad93f1e3c",
   "metadata": {},
   "outputs": [],
   "source": [
    "#1.Create a parent class Animal with a method speak() that prints a generic message. Create a child class Dog\n",
    "#that overrides the speak() method to print \"Bark!\".\n",
    "class animal:\n",
    "  def speak(self):\n",
    "    print(\"this is generic message\")\n",
    "class dog(animal):\n",
    "  def speak(self):\n",
    "    print(\"bark!\")\n"
   ]
  },
  {
   "cell_type": "code",
   "execution_count": 56,
   "id": "73f10bde-c88a-4ca0-a119-7858ccbda142",
   "metadata": {},
   "outputs": [
    {
     "name": "stdout",
     "output_type": "stream",
     "text": [
      "this is generic message\n"
     ]
    }
   ],
   "source": [
    "obj=animal()\n",
    "obj.speak()"
   ]
  },
  {
   "cell_type": "code",
   "execution_count": 57,
   "id": "0742fcc2-eb68-4ae9-8d90-e1862e3b1674",
   "metadata": {},
   "outputs": [
    {
     "name": "stdout",
     "output_type": "stream",
     "text": [
      "bark!\n"
     ]
    }
   ],
   "source": [
    "obj2=dog()\n",
    "obj2.speak()"
   ]
  },
  {
   "cell_type": "code",
   "execution_count": 58,
   "id": "35d998f0-f978-4009-a55c-16325d7010f8",
   "metadata": {},
   "outputs": [],
   "source": [
    "#2. Write a program to create an abstract class Shape with a method area(). Derive classes Circle and Rectangle\n",
    "#from it and implement the area() method in both.\n",
    "from abc import ABC, abstractmethod\n",
    "class shape(ABC):\n",
    "  def area(self):\n",
    "    print(\"calculate the area\")\n",
    "class cirle(shape):\n",
    "  def area(self,radius):\n",
    "    return 3.14*radius*radius\n",
    "class rectangle(shape):\n",
    "  def area(self,length,width):\n",
    "    return length*width"
   ]
  },
  {
   "cell_type": "code",
   "execution_count": 59,
   "id": "e32ccfa3-970e-40a5-8836-32c8e3b58882",
   "metadata": {},
   "outputs": [],
   "source": [
    "#3.implement a multilevel inheritance where a class vehicle has an attribute type.derive and further derive a class electriccar that adds a battery attribute\n",
    "class vehicle:\n",
    "  def __init__(self,type):\n",
    "    self.type=type\n",
    "class car(vehicle):\n",
    "  def __init__(self,type,battery):\n",
    "    super().__init__(type)\n",
    "    self.battery=battery\n",
    "    class electriccar(car):\n",
    "     def __init__(self,type,battery,range):\n",
    "      super().__init__(type,battery)\n",
    "      self.range=range\n"
   ]
  },
  {
   "cell_type": "code",
   "execution_count": 60,
   "id": "270f58bf-fa35-452d-9d39-6f130abf940f",
   "metadata": {},
   "outputs": [],
   "source": [
    "#4.implement a multilevel inheritance where a class vehicle has an attribute type.derive and further derive a class electriccar that adds a battery attribute\n",
    "class vehicle:\n",
    "  def __init__(self,type):\n",
    "    self.type=type\n",
    "class car(vehicle):\n",
    "  def __init__(self,type,battery):\n",
    "    super().__init__(type)\n",
    "    self.battery=battery\n",
    "    class electriccar(car):\n",
    "     def __init__(self,type,battery,range):\n",
    "      super().__init__(type,battery)\n",
    "      self.range=range\n"
   ]
  },
  {
   "cell_type": "code",
   "execution_count": 61,
   "id": "29f06bd1-7247-4994-b984-3bc312428964",
   "metadata": {},
   "outputs": [],
   "source": [
    "#5.write a program to demostrate encapsulation by creating a class bankaccount with private attributes balance and methods to deposits withdraw and check balance.\n",
    "class bankaccount:\n",
    "  def __init__(self,balance):\n",
    "    self.__balance=balance\n",
    "    def deposit(self,amount):\n",
    "      self.__balance+=amount\n",
    "  def withdraw(self,amount):\n",
    "    if amount<=self.__balance:\n",
    "      self.__balance-=amount\n",
    "    else:\n",
    "      print(\"insufficient balance\")"
   ]
  },
  {
   "cell_type": "code",
   "execution_count": 62,
   "id": "772f327b-9559-4a20-b60d-3fbbb3fcec2b",
   "metadata": {},
   "outputs": [],
   "source": [
    "#6.demonstrate runtime polymorphism using a method pay() in a base class instrument .derive classes guitar and piano that implements their owm version of play().\n",
    "class instrument:\n",
    " def __init__(self,name):\n",
    "  self.name=name\n",
    "  def play(self):\n",
    "    pass\n",
    "class guitar(instrument):\n",
    "  def play(self):\n",
    "    print(\"guitar is playing\")\n",
    "class piano(instrument):\n",
    "  def play(self):\n",
    "    print(\"piano is playing\")"
   ]
  },
  {
   "cell_type": "code",
   "execution_count": 63,
   "id": "a394c71e-0054-49c8-b7e3-160476f25580",
   "metadata": {},
   "outputs": [],
   "source": [
    "#7.create a class mathoperation with a class method add_numbers to add two numbers and a static method substract_numbers() to substract two numbers.\n",
    "class mathoperation:\n",
    "  @classmethod\n",
    "  def add_numbers(cls,a,b):\n",
    "    return a+b\n",
    "    @staticmethod\n",
    "    def substract_numbers(a,b):\n",
    "      return a-b"
   ]
  },
  {
   "cell_type": "code",
   "execution_count": 64,
   "id": "cf6fc3f2-9d0b-4124-a237-dac6ee1ff0e9",
   "metadata": {},
   "outputs": [],
   "source": [
    "#8.implement a class person with a class method to count the total numbers of person created.\n",
    "class person:\n",
    "  count=0\n",
    "  def __init__(self,name):\n",
    "    self.name=name\n",
    "    person.count+=1\n",
    "    @classmethod\n",
    "    def get_count(cls):\n",
    "      return person.count"
   ]
  },
  {
   "cell_type": "code",
   "execution_count": 65,
   "id": "bc482246-b867-42df-acab-307b8e426a10",
   "metadata": {},
   "outputs": [],
   "source": [
    "#9.write a class fraction with attrubute numerator and denominator .override the str method to display the fraction as numerator/denominator.\n",
    "class fraction:\n",
    " def __init__(self,numerator,denominator):\n",
    "  self.numerator=numerator\n",
    "  self.denominator=denominator\n",
    "  def __str__(self):\n",
    "    return f\"{self.numerator}/{self.denominator}\""
   ]
  },
  {
   "cell_type": "code",
   "execution_count": 66,
   "id": "a2c58265-63a5-4ceb-a1ca-90e49bbee809",
   "metadata": {},
   "outputs": [],
   "source": [
    "#10.demostrate operator overloading by creating a class vector and overirde the add method to add two vectors\n",
    "class vector:\n",
    "  def __init__(self,x,y):\n",
    "    self.x=x\n",
    "    self.y=y\n",
    "  def __add__(self,other):\n",
    "    return vector(self.x+other.x,self.y+other.y)"
   ]
  },
  {
   "cell_type": "code",
   "execution_count": 67,
   "id": "7ee7370e-d858-4264-a6f5-2ca314416d4e",
   "metadata": {},
   "outputs": [],
   "source": [
    "#11.create a class person with attributs name and age .add a method greet() that prints\"hello,my name is {name} and i am {age}years old\"\n",
    "class person:\n",
    "  def __init__(self,name,age):\n",
    "    self.name=name\n",
    "    self.age=age\n",
    "    def greet(self):\n",
    "      print(f\"hello,my name is {self.name} and i am {self.age}years old\")"
   ]
  },
  {
   "cell_type": "code",
   "execution_count": 68,
   "id": "601c1c1e-7a4a-4af8-b548-d9b168f00ab5",
   "metadata": {},
   "outputs": [],
   "source": [
    "#12.implement a class student with attributs name and grades .create a method average_grade() to compute the average of the grades\n",
    "class student:\n",
    "  def __init__(self,name,grades):\n",
    "    self.name=name\n",
    "    self.grades=grades\n",
    "  def average_grade(self):\n",
    "    return sum(self.grades)/len(self.grades)"
   ]
  },
  {
   "cell_type": "code",
   "execution_count": 69,
   "id": "e00f4caa-de4f-4a9a-9337-136786171619",
   "metadata": {},
   "outputs": [],
   "source": [
    "#13.create a class rectangle with methods set_dimension() to set the dimension and area() to calculate the area\n",
    "class rectange:\n",
    "  def __init__(self,length,width):\n",
    "    self.length=length\n",
    "    self.width=width\n",
    "    def set_dimension(self,length,width):\n",
    "     self.length=length\n",
    "     self.width=width\n",
    "    def area(self):\n",
    "      return self.length*self.width"
   ]
  },
  {
   "cell_type": "code",
   "execution_count": 70,
   "id": "ac9e3efa-e667-4061-89c9-2b0f4e00f055",
   "metadata": {},
   "outputs": [],
   "source": [
    "#14.create a employee with method calculate_salary() that compute the salary based om hours worked and hourly rate .create a derived class manager that add bonus to the salary\n",
    "class employee:\n",
    "  def __init__(self,name,hours_worked,hourly_rate):\n",
    "    self.name=name\n",
    "    self.hours_worked=hours_worked\n",
    "    self.hourly_rate=hourly_rate\n",
    "    def calculate_salary(self):\n",
    "      return self.hours_worked*self.hourly_rate"
   ]
  },
  {
   "cell_type": "code",
   "execution_count": 71,
   "id": "3f18996e-1817-43f0-ad35-a9b72102e0cc",
   "metadata": {},
   "outputs": [],
   "source": [
    "#15.create a class product with attributes name price quantity implement a method totsl_price() thst calculate the total pricce of the product\n",
    "class product:\n",
    "  def __init__(self,name,price,quantity):\n",
    "    self.name=name\n",
    "    self.price=price\n",
    "    self.quantity=quantity\n",
    "    def total_price(self):\n",
    "      return self.price*self.quantity"
   ]
  },
  {
   "cell_type": "code",
   "execution_count": 72,
   "id": "6c1fe1b2-205e-4264-b0d2-e2ab79b68c13",
   "metadata": {},
   "outputs": [],
   "source": [
    "#16.create a class animal with an abstract method sound().create two dervied classes cow and sheep that implement the sound() method\n",
    "from abc import ABC,abstractmethod\n",
    "class animal(ABC):\n",
    "  @abstractmethod\n",
    "  def sound(self):\n",
    "    pass\n",
    "class cow(animal):\n",
    "  def sound(self):\n",
    "    print(\"moo\")\n",
    "class sheep(animal):\n",
    "  def sound(self):\n",
    "    print(\"baa\")"
   ]
  },
  {
   "cell_type": "code",
   "execution_count": 73,
   "id": "58b95bf3-5bd1-482b-8c62-1fb63c1dc2b6",
   "metadata": {},
   "outputs": [],
   "source": [
    "#17.create a class book with attribute titlr author and year_publshes add a method get_book_info() that returns a formatted strng with books detild\n",
    "class book:\n",
    "  def __init__(self,title,author,year_published):\n",
    "    self.title=title\n",
    "    self.author=author\n",
    "    self.year_published=year_published\n",
    "    def get_book_info(self):\n",
    "      return f\"{self.title} by {self.author} ({self.year_published})\""
   ]
  },
  {
   "cell_type": "code",
   "execution_count": 74,
   "id": "bac0e5c1-9a28-44c3-bec7-72bb5bc23ff2",
   "metadata": {},
   "outputs": [],
   "source": [
    "#18.create a class house with attributes address and price create a deived class mansion that adds an attributes numbers_of_rooms\n",
    "class house:\n",
    "  def __init__(self,address,price):\n",
    "    self.address=address\n",
    "    self.price=price\n",
    "    class mansion(house):\n",
    "      def __init__(self,address,price,number_of_rooms):\n",
    "        super().__init__(address,price)\n",
    "        self.number_of_rooms=number_of_rooms\n",
    "        def get_house_info(self):\n",
    "          return f\"{self.address} for ${self.price} with {self.number_of_rooms} rooms\""
   ]
  },
  {
   "cell_type": "code",
   "execution_count": null,
   "id": "e8386a72-8d43-4f8a-a325-259df7e6eeeb",
   "metadata": {},
   "outputs": [],
   "source": []
  },
  {
   "cell_type": "code",
   "execution_count": null,
   "id": "422fe128-d63d-4e45-ad43-370cc5d42c29",
   "metadata": {},
   "outputs": [],
   "source": []
  }
 ],
 "metadata": {
  "kernelspec": {
   "display_name": "Python 3 (ipykernel)",
   "language": "python",
   "name": "python3"
  },
  "language_info": {
   "codemirror_mode": {
    "name": "ipython",
    "version": 3
   },
   "file_extension": ".py",
   "mimetype": "text/x-python",
   "name": "python",
   "nbconvert_exporter": "python",
   "pygments_lexer": "ipython3",
   "version": "3.13.0"
  }
 },
 "nbformat": 4,
 "nbformat_minor": 5
}
